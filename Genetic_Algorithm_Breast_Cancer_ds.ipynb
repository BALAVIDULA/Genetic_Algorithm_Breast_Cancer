{
  "nbformat": 4,
  "nbformat_minor": 0,
  "metadata": {
    "colab": {
      "provenance": []
    },
    "kernelspec": {
      "name": "python3",
      "display_name": "Python 3"
    },
    "language_info": {
      "name": "python"
    }
  },
  "cells": [
    {
      "cell_type": "code",
      "execution_count": 1,
      "metadata": {
        "colab": {
          "base_uri": "https://localhost:8080/"
        },
        "id": "TQDA_HlWc7N-",
        "outputId": "7322b6f6-e85c-4fd5-aacb-3884697e7a89"
      },
      "outputs": [
        {
          "output_type": "stream",
          "name": "stdout",
          "text": [
            "Best features: [11, 21]\n",
            "Accuracy with selected features: 0.6929824561403509\n"
          ]
        }
      ],
      "source": [
        "#apply ga in medical dataset\n",
        "import numpy as np\n",
        "import random\n",
        "from sklearn.datasets import load_breast_cancer\n",
        "from sklearn.model_selection import train_test_split\n",
        "from sklearn.ensemble import RandomForestClassifier\n",
        "from sklearn.metrics import accuracy_score\n",
        "\n",
        "# Load the Breast Cancer dataset\n",
        "data = load_breast_cancer()\n",
        "X, y = data.data, data.target\n",
        "\n",
        "# Split the dataset into training and testing sets\n",
        "X_train, X_test, y_train, y_test = train_test_split(X, y, test_size=0.2, random_state=42)\n",
        "\n",
        "# Genetic Algorithm Parameters\n",
        "POPULATION_SIZE = 10\n",
        "MUTATION_RATE = 0.1\n",
        "GENERATIONS = 10\n",
        "\n",
        "# Fitness function (using a Random Forest classifier)\n",
        "def calculate_fitness(features, X_train, X_test, y_train, y_test):\n",
        "    if not features:  # If features list is empty, return a very low accuracy\n",
        "        return 0.0\n",
        "\n",
        "    clf = RandomForestClassifier(n_estimators=50, random_state=42)\n",
        "    clf.fit(X_train[:, features], y_train)\n",
        "    predictions = clf.predict(X_test[:, features])\n",
        "    return accuracy_score(y_test, predictions)\n",
        "\n",
        "# Initialization of the population\n",
        "population = [random.sample(range(X_train.shape[1]), k=5) for _ in range(POPULATION_SIZE)]\n",
        "\n",
        "# Main Genetic Algorithm loop\n",
        "for generation in range(GENERATIONS):\n",
        "    fitness_scores = [calculate_fitness(features, X_train, X_test, y_train, y_test) for features in population]\n",
        "\n",
        "    # Select top individuals (features) based on their fitness scores\n",
        "    selected_indices = np.argsort(fitness_scores)[-POPULATION_SIZE:]\n",
        "    selected_population = [population[i] for i in selected_indices]\n",
        "\n",
        "    # Create new individuals through crossover and mutation\n",
        "    new_population = []\n",
        "\n",
        "    for _ in range(POPULATION_SIZE // 2):\n",
        "        parent1 = random.choice(selected_population)\n",
        "        parent2 = random.choice(selected_population)\n",
        "\n",
        "        # Ensure parent1 is not empty\n",
        "        while not parent1:\n",
        "            parent1 = random.choice(selected_population)\n",
        "\n",
        "        # Ensure crossover point allows at least one element from parent1\n",
        "        crossover_point = random.randint(0, len(parent1) - 1)\n",
        "\n",
        "        # Ensure child features do not have duplicates\n",
        "        child1 = parent1[:crossover_point] + [f for f in parent2 if f not in parent1[crossover_point:]]\n",
        "        child2 = parent2[:crossover_point] + [f for f in parent1 if f not in parent2[crossover_point:]]\n",
        "\n",
        "        # Remove duplicates in child features\n",
        "        child1 = list(dict.fromkeys(child1))\n",
        "        child2 = list(dict.fromkeys(child2))\n",
        "\n",
        "        # Ensure child features are within the valid range\n",
        "        child1 = [f if 0 <= f < X_train.shape[1] else random.randint(0, X_train.shape[1] - 1) for f in child1]\n",
        "        child2 = [f if 0 <= f < X_train.shape[1] else random.randint(0, X_train.shape[1] - 1) for f in child2]\n",
        "\n",
        "        # Mutation\n",
        "        child1 = [f if random.random() > MUTATION_RATE else random.randint(0, X_train.shape[1] - 1) for f in child1]\n",
        "        child2 = [f if random.random() > MUTATION_RATE else random.randint(0, X_train.shape[1] - 1) for f in child2]\n",
        "\n",
        "        new_population.extend([child1, child2])\n",
        "\n",
        "    population = new_population\n",
        "\n",
        "# Get the best individual (features) from the final population\n",
        "best_indices = np.argsort(fitness_scores)[-1]\n",
        "best_features = list(dict.fromkeys(population[best_indices]))\n",
        "\n",
        "# Check if best_features is not empty before fitting the model\n",
        "if best_features:\n",
        "    # Train a model using the best features and evaluate it\n",
        "    clf = RandomForestClassifier(n_estimators=50, random_state=42)\n",
        "    clf.fit(X_train[:, best_features], y_train)\n",
        "    predictions = clf.predict(X_test[:, best_features])\n",
        "    accuracy = accuracy_score(y_test, predictions)\n",
        "\n",
        "    print(f\"Best features: {best_features}\")\n",
        "    print(f\"Accuracy with selected features: {accuracy}\")\n",
        "else:\n",
        "    print(\"No features selected.\")\n"
      ]
    },
    {
      "cell_type": "code",
      "source": [],
      "metadata": {
        "id": "jUAB1ZgadB3Z"
      },
      "execution_count": null,
      "outputs": []
    }
  ]
}